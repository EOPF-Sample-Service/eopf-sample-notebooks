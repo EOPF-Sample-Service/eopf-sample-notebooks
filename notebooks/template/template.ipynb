{
  "@context": [
    "http://schema.org/",
    {
      "jupyter": "https://jupyter.org/ns/#"
    }
  ],
  "@type": [
    "CreativeWork",
    "jupyter:JupyterNotebook"
  ],
  "metadata": {
    "name": "Notebook Title",
    "author": [
      {
        "@type": "Person",
        "familyName": "Claus",
        "givenName": "Michele",
        "worksFor": {
          "@type": "Organization",
          "name": "Eurac Research"
        },
        "url": "https://orcid.org/0000-0003-3680-381X"
      }
    ],
    "funder": [
      {
        "name": "ESA"
      }
    ],
    "license": "https://www.apache.org/licenses/LICENSE-2.0.txt",
    "kernelspec": {
      "display_name": "Python 3 (ipykernel)",
      "language": "python",
      "name": "python3"
    },
    "language_info": {
      "codemirror_mode": {
        "name": "ipython",
        "version": 3
      },
      "file_extension": ".py",
      "mimetype": "text/x-python",
      "name": "python",
      "nbconvert_exporter": "python",
      "pygments_lexer": "ipython3",
      "version": "3.10.12"
    }
  },
  "cells": [
    {
      "cell_type": "markdown",
      "id": "bee45446-653f-4074-a0af-27b3e19b2f1f",
      "metadata": {
        "tags": []
      },
      "source": [
        "<img src=\"./assets/ESA_logo_2020_Deep.png\"\n",
        "     alt=\"ESA logo\"\n",
        "     style=\"float: center; margin-right: 10px; width: 600px;\" />"
      ]
    },
    {
      "cell_type": "markdown",
      "id": "d8e708a7-93d9-489b-934f-a6cb5ba6e25e",
      "metadata": {},
      "source": [
        "# Title\n",
        "\n",
        "## Description\n",
        "\n",
        "Release date: 01-01-2099\n",
        "\n",
        "Update date: 01-01-2099\n",
        "\n",
        "Licensing: this notebook is distributed under the [Apache 2.0 License](https://www.apache.org/licenses/LICENSE-2.0.txt)\n",
        "\n",
        "Author: Michele Claus <a href=\"https://orcid.org/0000-0003-3680-381X\" aria-label=\"View ORCID record\">\n",
        "<img src=\"https://upload.wikimedia.org/wikipedia/commons/0/06/ORCID_iD.svg\"\n",
        "     alt=\"ORCID iD\"\n",
        "     style=\"width: 24px;\"/></a>"
      ]
    }
  ],
  "nbformat": 4,
  "nbformat_minor": 5
}